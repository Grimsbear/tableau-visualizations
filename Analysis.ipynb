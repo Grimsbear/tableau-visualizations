{
 "cells": [
  {
   "cell_type": "markdown",
   "id": "4cedf662",
   "metadata": {},
   "source": [
    "# CitiBike Station Data Analysis"
   ]
  },
  {
   "cell_type": "markdown",
   "id": "1c69c371",
   "metadata": {},
   "source": [
    "## Phenomenon 1"
   ]
  },
  {
   "cell_type": "markdown",
   "id": "7398ee13",
   "metadata": {},
   "source": [
    "Something I thought was interesting was the large dip in available bikes on the 6/7/2013, I thought it might be either maintenance and breakdowns or theft/vandalism . I made a dashnoard that shows Trip Duration for each bike as well as the total number of trip durations where the end station was any value versus where the end station wasn't null. It doesn't seem like either were the answer and google searches of that date don't provide any details of events that could have happened that day."
   ]
  },
  {
   "cell_type": "markdown",
   "id": "91e5413b",
   "metadata": {},
   "source": [
    "## Phenomenon 2"
   ]
  },
  {
   "cell_type": "markdown",
   "id": "fb4ed470",
   "metadata": {},
   "source": [
    "The second thing I was curious about was who the primary users of CitiBike where and how much they used CitiBike. CitiBike has a Subscription feature and Subscribers do have a tendency to use CitiBike more often than regular Customers. It also seems that Males born in 1983 are the most frequent and longest using of CitiBike. This seemed to be close to the cutoff for age as most of the rest of CitiBikes Users seem to be born before 1983."
   ]
  },
  {
   "cell_type": "code",
   "execution_count": null,
   "id": "2afe4e20",
   "metadata": {},
   "outputs": [],
   "source": []
  }
 ],
 "metadata": {
  "kernelspec": {
   "display_name": "Python 3 (ipykernel)",
   "language": "python",
   "name": "python3"
  },
  "language_info": {
   "codemirror_mode": {
    "name": "ipython",
    "version": 3
   },
   "file_extension": ".py",
   "mimetype": "text/x-python",
   "name": "python",
   "nbconvert_exporter": "python",
   "pygments_lexer": "ipython3",
   "version": "3.8.13"
  }
 },
 "nbformat": 4,
 "nbformat_minor": 5
}
